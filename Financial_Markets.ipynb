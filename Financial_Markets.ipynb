{
 "cells": [
  {
   "cell_type": "markdown",
   "metadata": {},
   "source": [
    "# Modelling Stock Markets: A Psychological Approach"
   ]
  },
  {
   "cell_type": "markdown",
   "metadata": {
    "collapsed": true
   },
   "source": [
    "## Agent\n",
    "#### Features\n",
    "An agent represents a trader with the following features:\n",
    "\n",
    "- *Pocket: * How many assets the trader has (in any form)\n",
    "- *Dominance:* how much impace does that trader has on others\n",
    "- *Strength:* this is to define volume of trades made\n",
    "- *Stability:* or PANIC index. This defines an agent's belief in the stability of the markets, if it goes high, then strength of trade goes up too. If it goes low below the threshold (impacted by Environment variables, such as political/economical stability), there is a panic/avalanche toppling rule and it affects neighbouring traders (and if they go below the threshold, that causes another panic/avalanche) the strength of the avalanches depend on the strength of the impact.  \n",
    "- *\n",
    "Dominance * stability = affect of agent's panic into other traders.\n",
    "\n",
    "#### Actions\n",
    "\n",
    "- Buy  \n",
    "- Sell \n",
    "- Pass\n",
    "\n",
    "#### Decisions\n",
    "For simplicity, all agents will have the same set of decision rules.\n",
    "\n",
    "- if stability is > threshold, buy\n",
    "- if stability is < threshold, sell sell sell\n",
    "\n",
    "\n",
    "## Environment\n",
    "\n",
    "#### Features\n",
    "\n",
    "- Market size\n",
    "- External factors (political, economical .... news)\n",
    "- Internal: Company performances\n",
    "- External: market-risk (e.g. stock in chemicals, stock goes down), political-risk, liqudity-risk \n",
    "\n",
    "#### Reactions\n",
    "\n",
    "#### Evolution\n",
    "\n",
    "\n",
    "\n",
    "\n",
    "\n"
   ]
  },
  {
   "cell_type": "code",
   "execution_count": null,
   "metadata": {
    "collapsed": true
   },
   "outputs": [],
   "source": []
  }
 ],
 "metadata": {
  "anaconda-cloud": {},
  "kernelspec": {
   "display_name": "Python 3",
   "language": "python",
   "name": "python3"
  },
  "language_info": {
   "codemirror_mode": {
    "name": "ipython",
    "version": 3
   },
   "file_extension": ".py",
   "mimetype": "text/x-python",
   "name": "python",
   "nbconvert_exporter": "python",
   "pygments_lexer": "ipython3",
   "version": "3.6.3"
  }
 },
 "nbformat": 4,
 "nbformat_minor": 1
}
